{
 "cells": [
  {
   "cell_type": "code",
   "execution_count": 1,
   "id": "39a04de5",
   "metadata": {},
   "outputs": [],
   "source": [
    "#importing libraries\n",
    "import numpy as np \n",
    "import pandas as pd\n",
    "from sklearn import preprocessing\n",
    "from sklearn.naive_bayes import GaussianNB, MultinomialNB"
   ]
  },
  {
   "cell_type": "code",
   "execution_count": 2,
   "id": "b1451f83",
   "metadata": {},
   "outputs": [
    {
     "name": "stdout",
     "output_type": "stream",
     "text": [
      "Data :- \n",
      "    Outlook Temp Wind  Humidity  Class\n",
      "0        R    H    F         1      0\n",
      "1        R    H    T         2      0\n",
      "2        O    H    F         1      1\n",
      "3        R    M    F         1      1\n",
      "4        S    C    F         1      1\n",
      "5        O    C    T         0      0\n",
      "6        O    C    T         1      1\n",
      "7        R    M    F         1      0\n",
      "8        O    C    F         0      1\n",
      "9        S    M    F         2      1\n",
      "10       R    C    T         2      0\n",
      "11       O    M    T         0      1\n",
      "12       O    H    F         1      1\n",
      "13       S    M    T         1      0\n",
      "Data Statistics :- \n",
      "         Humidity      Class\n",
      "count  14.000000  14.000000\n",
      "mean    1.000000   0.571429\n",
      "std     0.679366   0.513553\n",
      "min     0.000000   0.000000\n",
      "25%     1.000000   0.000000\n",
      "50%     1.000000   1.000000\n",
      "75%     1.000000   1.000000\n",
      "max     2.000000   1.000000\n"
     ]
    }
   ],
   "source": [
    "#Step 2: Prepare dataset.\n",
    "\n",
    "dataset = pd.read_csv('Dataset3.csv')\n",
    "print(\"Data :- \\n\",dataset)\n",
    "print(\"Data Statistics :- \\n\",dataset.describe())"
   ]
  },
  {
   "cell_type": "code",
   "execution_count": 4,
   "id": "312883f7",
   "metadata": {},
   "outputs": [
    {
     "name": "stdout",
     "output_type": "stream",
     "text": [
      "Outlook: [1 1 0 1 2 0 0 1 0 2 1 0 0 2]\n",
      "Temp: [1 1 1 2 0 0 0 2 0 2 0 2 1 2]\n",
      "Humidity: [1 2 1 1 1 0 1 1 0 2 2 0 1 1]\n",
      "Wind: [0 1 0 0 0 1 1 0 0 0 1 1 0 1]\n"
     ]
    }
   ],
   "source": [
    "#Step 3: Digitize the data set using encoding\"\"\"\n",
    "\n",
    "#creating labelEncoder\n",
    "le = preprocessing.LabelEncoder()\n",
    "\n",
    "# Converting string labels into numbers.\n",
    "outlook_encoded=le.fit_transform(dataset['Outlook'])\n",
    "print(\"Outlook:\" ,outlook_encoded)\n",
    "temp_encoded=le.fit_transform(dataset['Temp'])\n",
    "print(\"Temp:\" ,temp_encoded)\n",
    "humidity_encoded=le.fit_transform(dataset['Humidity'])\n",
    "print(\"Humidity:\" ,humidity_encoded)\n",
    "wind_encoded=le.fit_transform(dataset['Wind'])\n",
    "print(\"Wind:\" ,wind_encoded)\n",
    "print(\"Play:\" ,play_encoded)"
   ]
  },
  {
   "cell_type": "code",
   "execution_count": 5,
   "id": "d73a77fb",
   "metadata": {},
   "outputs": [
    {
     "name": "stdout",
     "output_type": "stream",
     "text": [
      "Features: ((1, 1, 1, 0), (1, 1, 2, 1), (0, 1, 1, 0), (1, 2, 1, 0), (2, 0, 1, 0), (0, 0, 0, 1), (0, 0, 1, 1), (1, 2, 1, 0), (0, 0, 0, 0), (2, 2, 2, 0), (1, 0, 2, 1), (0, 2, 0, 1), (0, 1, 1, 0), (2, 2, 1, 1))\n"
     ]
    }
   ],
   "source": [
    "features=tuple(zip(outlook_encoded,temp_encoded,humidity_encoded,wind_encoded))\n",
    "print(\"Features:\",features)"
   ]
  },
  {
   "cell_type": "code",
   "execution_count": null,
   "id": "e049d224",
   "metadata": {},
   "outputs": [],
   "source": [
    "#Step 5: Train ’Naive Bayes Classifier\n",
    "\n",
    "#Create a Classifier\n",
    "model=MultinomialNB()\n",
    "# Train the model using the training sets\n",
    "model.fit(features,play_encoded)"
   ]
  },
  {
   "cell_type": "code",
   "execution_count": null,
   "id": "b298eb47",
   "metadata": {},
   "outputs": [],
   "source": [
    "#Step 6: Predict Output for new data\n",
    "\n",
    "#Predict Output\n",
    "predicted= model.predict([[1,1,2,0]]) # 1:Overcast, 2:Mild\n",
    "print(\"Predicted Value:\", predicted)\n",
    "\n",
    "#Predict Output\n",
    "predicted= model.predict([[1,1,0,1]]) # 0:Overcast, 2:Mild\n",
    "print(\"Predicted Value:\", predicted)\n",
    "\n",
    "#Predict Output\n",
    "predicted= model.predict([[0,1,2,0]]) # 0:Overcast, 2:Mild\n",
    "print(\"Predicted Value:\", predicted)"
   ]
  },
  {
   "cell_type": "code",
   "execution_count": null,
   "id": "caa1ab95",
   "metadata": {},
   "outputs": [],
   "source": []
  }
 ],
 "metadata": {
  "kernelspec": {
   "display_name": "Python 3",
   "language": "python",
   "name": "python3"
  },
  "language_info": {
   "codemirror_mode": {
    "name": "ipython",
    "version": 3
   },
   "file_extension": ".py",
   "mimetype": "text/x-python",
   "name": "python",
   "nbconvert_exporter": "python",
   "pygments_lexer": "ipython3",
   "version": "3.8.8"
  }
 },
 "nbformat": 4,
 "nbformat_minor": 5
}
