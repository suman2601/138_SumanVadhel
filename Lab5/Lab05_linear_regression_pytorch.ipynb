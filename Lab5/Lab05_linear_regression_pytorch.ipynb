{
  "nbformat": 4,
  "nbformat_minor": 0,
  "metadata": {
    "colab": {
      "name": "Lab05_linear_regression_pytorch.ipynb",
      "provenance": []
    },
    "kernelspec": {
      "name": "python3",
      "display_name": "Python 3"
    },
    "language_info": {
      "name": "python"
    }
  },
  "cells": [
    {
      "cell_type": "code",
      "metadata": {
        "id": "wI5z6WLGY-Pc"
      },
      "source": [
        "# Import Numpy & PyTorch\n",
        "import numpy as np\n",
        "import torch\n",
        "import torch.nn as nn"
      ],
      "execution_count": 1,
      "outputs": []
    },
    {
      "cell_type": "code",
      "metadata": {
        "id": "vi94VAcIZEx9"
      },
      "source": [
        "# Input (temp, rainfall, humidity)\n",
        "inputs = np.array([[73, 67, 43], [91, 88, 64], [87, 134, 58], [102, 43, 37], [69, 96, 70], [73, 67, 43], [91, 88, 64], [87, 134, 58], [102, 43, 37], [69, 96, 70], [73, 67, 43], [91, 88, 64], [87, 134, 58], [102, 43, 37], [69, 96, 70]], dtype='float32')\n",
        "# Targets (apples, oranges)\n",
        "targets = np.array([[56, 70], [81, 101], [119, 133], [22, 37], [103, 119], \n",
        "                    [56, 70], [81, 101], [119, 133], [22, 37], [103, 119], \n",
        "                    [56, 70], [81, 101], [119, 133], [22, 37], [103, 119]], dtype='float32')"
      ],
      "execution_count": 2,
      "outputs": []
    },
    {
      "cell_type": "code",
      "metadata": {
        "id": "i1-L_0WjZFOe"
      },
      "source": [
        "inputs = torch.from_numpy(inputs)\n",
        "targets = torch.from_numpy(targets)"
      ],
      "execution_count": 3,
      "outputs": []
    },
    {
      "cell_type": "code",
      "metadata": {
        "id": "JHz834q8ZFqK"
      },
      "source": [
        "# Import tensor dataset & data loader\n",
        "from torch.utils.data import TensorDataset, DataLoader"
      ],
      "execution_count": 4,
      "outputs": []
    },
    {
      "cell_type": "code",
      "metadata": {
        "id": "ApG46BuFZF-L"
      },
      "source": [
        "# Define dataset\n",
        "dataset = torch.utils.data.TensorDataset(inputs,targets)\n"
      ],
      "execution_count": 5,
      "outputs": []
    },
    {
      "cell_type": "code",
      "metadata": {
        "id": "Au36kuT9ZMWC"
      },
      "source": [
        "# Define data loader\n",
        "dataloader = torch.utils.data.DataLoader(dataset,batch_size=5)"
      ],
      "execution_count": 6,
      "outputs": []
    },
    {
      "cell_type": "code",
      "metadata": {
        "colab": {
          "base_uri": "https://localhost:8080/"
        },
        "id": "3EJv0AurZMwm",
        "outputId": "22828ec5-b66a-416b-b650-dceab52a4870"
      },
      "source": [
        "# Define model\n",
        "model = nn.Linear(inputs.shape[1],targets.shape[1])\n",
        "model.parameters()"
      ],
      "execution_count": 7,
      "outputs": [
        {
          "output_type": "execute_result",
          "data": {
            "text/plain": [
              "<generator object Module.parameters at 0x7ff9a6798850>"
            ]
          },
          "metadata": {},
          "execution_count": 7
        }
      ]
    },
    {
      "cell_type": "code",
      "metadata": {
        "id": "yTiIJeqkZNFP"
      },
      "source": [
        "# Define optimizer\n",
        "optimizer = torch.optim.SGD(model.parameters(),lr=1e-4)\n"
      ],
      "execution_count": 8,
      "outputs": []
    },
    {
      "cell_type": "code",
      "metadata": {
        "id": "OrDSgvWsZNlX"
      },
      "source": [
        "# Import nn.functional\n",
        "import torch.nn.functional as F"
      ],
      "execution_count": 9,
      "outputs": []
    },
    {
      "cell_type": "code",
      "metadata": {
        "id": "nWeVaRFkZOKo"
      },
      "source": [
        "# Define loss function\n",
        "loss_fn = F.mse_loss"
      ],
      "execution_count": 10,
      "outputs": []
    },
    {
      "cell_type": "code",
      "metadata": {
        "id": "bn4aNKzVZOmh"
      },
      "source": [
        "# Define a utility function to train the model\n",
        "def fit(num_epochs, model, loss_fn, opt):\n",
        "   for epoch in range(num_epochs):\n",
        "       for xb,yb in dataloader:\n",
        "            # Generate predictions\n",
        "            pred = model(xb)\n",
        "            loss = loss_fn(yb,pred)\n",
        "            # Perform gradient descent\n",
        "            loss.backward()\n",
        "            opt.step()\n",
        "            opt.zero_grad()\n",
        "       print('Training loss: ', loss_fn(model(inputs), targets))"
      ],
      "execution_count": 11,
      "outputs": []
    },
    {
      "cell_type": "code",
      "metadata": {
        "colab": {
          "base_uri": "https://localhost:8080/"
        },
        "id": "sj-BNHHJZPFy",
        "outputId": "4783bb53-9c4d-449c-bd66-072ba0c60785"
      },
      "source": [
        "\n",
        "# Train the model for 100 epochs\n",
        "fit(120 , model , loss_fn, optimizer)\n",
        "\n"
      ],
      "execution_count": 12,
      "outputs": [
        {
          "output_type": "stream",
          "name": "stdout",
          "text": [
            "Training loss:  tensor(948.1046, grad_fn=<MseLossBackward>)\n",
            "Training loss:  tensor(422.3940, grad_fn=<MseLossBackward>)\n",
            "Training loss:  tensor(242.8923, grad_fn=<MseLossBackward>)\n",
            "Training loss:  tensor(164.0525, grad_fn=<MseLossBackward>)\n",
            "Training loss:  tensor(120.6259, grad_fn=<MseLossBackward>)\n",
            "Training loss:  tensor(93.1718, grad_fn=<MseLossBackward>)\n",
            "Training loss:  tensor(74.5883, grad_fn=<MseLossBackward>)\n",
            "Training loss:  tensor(61.5536, grad_fn=<MseLossBackward>)\n",
            "Training loss:  tensor(52.1839, grad_fn=<MseLossBackward>)\n",
            "Training loss:  tensor(45.2936, grad_fn=<MseLossBackward>)\n",
            "Training loss:  tensor(40.1019, grad_fn=<MseLossBackward>)\n",
            "Training loss:  tensor(36.0852, grad_fn=<MseLossBackward>)\n",
            "Training loss:  tensor(32.8894, grad_fn=<MseLossBackward>)\n",
            "Training loss:  tensor(30.2745, grad_fn=<MseLossBackward>)\n",
            "Training loss:  tensor(28.0767, grad_fn=<MseLossBackward>)\n",
            "Training loss:  tensor(26.1842, grad_fn=<MseLossBackward>)\n",
            "Training loss:  tensor(24.5203, grad_fn=<MseLossBackward>)\n",
            "Training loss:  tensor(23.0318, grad_fn=<MseLossBackward>)\n",
            "Training loss:  tensor(21.6818, grad_fn=<MseLossBackward>)\n",
            "Training loss:  tensor(20.4441, grad_fn=<MseLossBackward>)\n",
            "Training loss:  tensor(19.3002, grad_fn=<MseLossBackward>)\n",
            "Training loss:  tensor(18.2364, grad_fn=<MseLossBackward>)\n",
            "Training loss:  tensor(17.2427, grad_fn=<MseLossBackward>)\n",
            "Training loss:  tensor(16.3113, grad_fn=<MseLossBackward>)\n",
            "Training loss:  tensor(15.4364, grad_fn=<MseLossBackward>)\n",
            "Training loss:  tensor(14.6129, grad_fn=<MseLossBackward>)\n",
            "Training loss:  tensor(13.8369, grad_fn=<MseLossBackward>)\n",
            "Training loss:  tensor(13.1051, grad_fn=<MseLossBackward>)\n",
            "Training loss:  tensor(12.4145, grad_fn=<MseLossBackward>)\n",
            "Training loss:  tensor(11.7624, grad_fn=<MseLossBackward>)\n",
            "Training loss:  tensor(11.1464, grad_fn=<MseLossBackward>)\n",
            "Training loss:  tensor(10.5646, grad_fn=<MseLossBackward>)\n",
            "Training loss:  tensor(10.0148, grad_fn=<MseLossBackward>)\n",
            "Training loss:  tensor(9.4952, grad_fn=<MseLossBackward>)\n",
            "Training loss:  tensor(9.0042, grad_fn=<MseLossBackward>)\n",
            "Training loss:  tensor(8.5401, grad_fn=<MseLossBackward>)\n",
            "Training loss:  tensor(8.1015, grad_fn=<MseLossBackward>)\n",
            "Training loss:  tensor(7.6869, grad_fn=<MseLossBackward>)\n",
            "Training loss:  tensor(7.2950, grad_fn=<MseLossBackward>)\n",
            "Training loss:  tensor(6.9246, grad_fn=<MseLossBackward>)\n",
            "Training loss:  tensor(6.5744, grad_fn=<MseLossBackward>)\n",
            "Training loss:  tensor(6.2435, grad_fn=<MseLossBackward>)\n",
            "Training loss:  tensor(5.9306, grad_fn=<MseLossBackward>)\n",
            "Training loss:  tensor(5.6348, grad_fn=<MseLossBackward>)\n",
            "Training loss:  tensor(5.3552, grad_fn=<MseLossBackward>)\n",
            "Training loss:  tensor(5.0910, grad_fn=<MseLossBackward>)\n",
            "Training loss:  tensor(4.8412, grad_fn=<MseLossBackward>)\n",
            "Training loss:  tensor(4.6050, grad_fn=<MseLossBackward>)\n",
            "Training loss:  tensor(4.3818, grad_fn=<MseLossBackward>)\n",
            "Training loss:  tensor(4.1708, grad_fn=<MseLossBackward>)\n",
            "Training loss:  tensor(3.9714, grad_fn=<MseLossBackward>)\n",
            "Training loss:  tensor(3.7828, grad_fn=<MseLossBackward>)\n",
            "Training loss:  tensor(3.6046, grad_fn=<MseLossBackward>)\n",
            "Training loss:  tensor(3.4361, grad_fn=<MseLossBackward>)\n",
            "Training loss:  tensor(3.2768, grad_fn=<MseLossBackward>)\n",
            "Training loss:  tensor(3.1263, grad_fn=<MseLossBackward>)\n",
            "Training loss:  tensor(2.9840, grad_fn=<MseLossBackward>)\n",
            "Training loss:  tensor(2.8495, grad_fn=<MseLossBackward>)\n",
            "Training loss:  tensor(2.7223, grad_fn=<MseLossBackward>)\n",
            "Training loss:  tensor(2.6021, grad_fn=<MseLossBackward>)\n",
            "Training loss:  tensor(2.4885, grad_fn=<MseLossBackward>)\n",
            "Training loss:  tensor(2.3811, grad_fn=<MseLossBackward>)\n",
            "Training loss:  tensor(2.2796, grad_fn=<MseLossBackward>)\n",
            "Training loss:  tensor(2.1836, grad_fn=<MseLossBackward>)\n",
            "Training loss:  tensor(2.0929, grad_fn=<MseLossBackward>)\n",
            "Training loss:  tensor(2.0071, grad_fn=<MseLossBackward>)\n",
            "Training loss:  tensor(1.9261, grad_fn=<MseLossBackward>)\n",
            "Training loss:  tensor(1.8494, grad_fn=<MseLossBackward>)\n",
            "Training loss:  tensor(1.7770, grad_fn=<MseLossBackward>)\n",
            "Training loss:  tensor(1.7085, grad_fn=<MseLossBackward>)\n",
            "Training loss:  tensor(1.6438, grad_fn=<MseLossBackward>)\n",
            "Training loss:  tensor(1.5826, grad_fn=<MseLossBackward>)\n",
            "Training loss:  tensor(1.5248, grad_fn=<MseLossBackward>)\n",
            "Training loss:  tensor(1.4701, grad_fn=<MseLossBackward>)\n",
            "Training loss:  tensor(1.4184, grad_fn=<MseLossBackward>)\n",
            "Training loss:  tensor(1.3696, grad_fn=<MseLossBackward>)\n",
            "Training loss:  tensor(1.3234, grad_fn=<MseLossBackward>)\n",
            "Training loss:  tensor(1.2797, grad_fn=<MseLossBackward>)\n",
            "Training loss:  tensor(1.2385, grad_fn=<MseLossBackward>)\n",
            "Training loss:  tensor(1.1995, grad_fn=<MseLossBackward>)\n",
            "Training loss:  tensor(1.1626, grad_fn=<MseLossBackward>)\n",
            "Training loss:  tensor(1.1277, grad_fn=<MseLossBackward>)\n",
            "Training loss:  tensor(1.0948, grad_fn=<MseLossBackward>)\n",
            "Training loss:  tensor(1.0636, grad_fn=<MseLossBackward>)\n",
            "Training loss:  tensor(1.0342, grad_fn=<MseLossBackward>)\n",
            "Training loss:  tensor(1.0064, grad_fn=<MseLossBackward>)\n",
            "Training loss:  tensor(0.9800, grad_fn=<MseLossBackward>)\n",
            "Training loss:  tensor(0.9552, grad_fn=<MseLossBackward>)\n",
            "Training loss:  tensor(0.9317, grad_fn=<MseLossBackward>)\n",
            "Training loss:  tensor(0.9095, grad_fn=<MseLossBackward>)\n",
            "Training loss:  tensor(0.8884, grad_fn=<MseLossBackward>)\n",
            "Training loss:  tensor(0.8686, grad_fn=<MseLossBackward>)\n",
            "Training loss:  tensor(0.8498, grad_fn=<MseLossBackward>)\n",
            "Training loss:  tensor(0.8321, grad_fn=<MseLossBackward>)\n",
            "Training loss:  tensor(0.8153, grad_fn=<MseLossBackward>)\n",
            "Training loss:  tensor(0.7995, grad_fn=<MseLossBackward>)\n",
            "Training loss:  tensor(0.7845, grad_fn=<MseLossBackward>)\n",
            "Training loss:  tensor(0.7703, grad_fn=<MseLossBackward>)\n",
            "Training loss:  tensor(0.7569, grad_fn=<MseLossBackward>)\n",
            "Training loss:  tensor(0.7443, grad_fn=<MseLossBackward>)\n",
            "Training loss:  tensor(0.7323, grad_fn=<MseLossBackward>)\n",
            "Training loss:  tensor(0.7210, grad_fn=<MseLossBackward>)\n",
            "Training loss:  tensor(0.7103, grad_fn=<MseLossBackward>)\n",
            "Training loss:  tensor(0.7002, grad_fn=<MseLossBackward>)\n",
            "Training loss:  tensor(0.6906, grad_fn=<MseLossBackward>)\n",
            "Training loss:  tensor(0.6816, grad_fn=<MseLossBackward>)\n",
            "Training loss:  tensor(0.6731, grad_fn=<MseLossBackward>)\n",
            "Training loss:  tensor(0.6650, grad_fn=<MseLossBackward>)\n",
            "Training loss:  tensor(0.6574, grad_fn=<MseLossBackward>)\n",
            "Training loss:  tensor(0.6501, grad_fn=<MseLossBackward>)\n",
            "Training loss:  tensor(0.6433, grad_fn=<MseLossBackward>)\n",
            "Training loss:  tensor(0.6369, grad_fn=<MseLossBackward>)\n",
            "Training loss:  tensor(0.6308, grad_fn=<MseLossBackward>)\n",
            "Training loss:  tensor(0.6250, grad_fn=<MseLossBackward>)\n",
            "Training loss:  tensor(0.6196, grad_fn=<MseLossBackward>)\n",
            "Training loss:  tensor(0.6144, grad_fn=<MseLossBackward>)\n",
            "Training loss:  tensor(0.6096, grad_fn=<MseLossBackward>)\n",
            "Training loss:  tensor(0.6050, grad_fn=<MseLossBackward>)\n",
            "Training loss:  tensor(0.6006, grad_fn=<MseLossBackward>)\n",
            "Training loss:  tensor(0.5965, grad_fn=<MseLossBackward>)\n"
          ]
        }
      ]
    },
    {
      "cell_type": "code",
      "metadata": {
        "colab": {
          "base_uri": "https://localhost:8080/"
        },
        "id": "FsGZONjCZecs",
        "outputId": "318ed066-f946-48b6-dbe4-c93819d0d903"
      },
      "source": [
        "# Generate predictions\n",
        "#preds = model(?)\n",
        "#preds\n",
        "preds = model(inputs)\n",
        "preds"
      ],
      "execution_count": 13,
      "outputs": [
        {
          "output_type": "execute_result",
          "data": {
            "text/plain": [
              "tensor([[ 57.2378,  70.3879],\n",
              "        [ 82.0892, 100.3856],\n",
              "        [118.8452, 133.4799],\n",
              "        [ 21.1191,  37.1574],\n",
              "        [101.7684, 118.6170],\n",
              "        [ 57.2378,  70.3879],\n",
              "        [ 82.0892, 100.3856],\n",
              "        [118.8452, 133.4799],\n",
              "        [ 21.1191,  37.1574],\n",
              "        [101.7684, 118.6170],\n",
              "        [ 57.2378,  70.3879],\n",
              "        [ 82.0892, 100.3856],\n",
              "        [118.8452, 133.4799],\n",
              "        [ 21.1191,  37.1574],\n",
              "        [101.7684, 118.6170]], grad_fn=<AddmmBackward>)"
            ]
          },
          "metadata": {},
          "execution_count": 13
        }
      ]
    },
    {
      "cell_type": "code",
      "metadata": {
        "colab": {
          "base_uri": "https://localhost:8080/"
        },
        "id": "82pO_7flZe9o",
        "outputId": "588d87a9-1ddf-4b42-e21f-7bdd136a5917"
      },
      "source": [
        "# Compare with targets\n",
        "targets"
      ],
      "execution_count": 14,
      "outputs": [
        {
          "output_type": "execute_result",
          "data": {
            "text/plain": [
              "tensor([[ 56.,  70.],\n",
              "        [ 81., 101.],\n",
              "        [119., 133.],\n",
              "        [ 22.,  37.],\n",
              "        [103., 119.],\n",
              "        [ 56.,  70.],\n",
              "        [ 81., 101.],\n",
              "        [119., 133.],\n",
              "        [ 22.,  37.],\n",
              "        [103., 119.],\n",
              "        [ 56.,  70.],\n",
              "        [ 81., 101.],\n",
              "        [119., 133.],\n",
              "        [ 22.,  37.],\n",
              "        [103., 119.]])"
            ]
          },
          "metadata": {},
          "execution_count": 14
        }
      ]
    },
    {
      "cell_type": "code",
      "metadata": {
        "id": "YBjNeHRTZfft"
      },
      "source": [
        "from sklearn.linear_model import LinearRegression\n",
        "\n",
        "model = LinearRegression()"
      ],
      "execution_count": 15,
      "outputs": []
    },
    {
      "cell_type": "code",
      "metadata": {
        "id": "yvepuQCZZf7x"
      },
      "source": [
        "from sklearn.model_selection import train_test_split\n",
        "\n",
        "X_train,X_test,Y_train,Y_test = train_test_split(inputs,targets,test_size=0.5,random_state=140)"
      ],
      "execution_count": 16,
      "outputs": []
    },
    {
      "cell_type": "code",
      "metadata": {
        "colab": {
          "base_uri": "https://localhost:8080/"
        },
        "id": "-IVnDSk0Zmvz",
        "outputId": "b135b69b-cd4a-472f-f5a8-a679b25bfae4"
      },
      "source": [
        "model.fit(X_train,Y_train)\n",
        "predictions = model.predict(X_test)\n",
        "predictions"
      ],
      "execution_count": 17,
      "outputs": [
        {
          "output_type": "execute_result",
          "data": {
            "text/plain": [
              "array([[ 98.71938 , 119.30003 ],\n",
              "       [119.      , 133.      ],\n",
              "       [ 98.71938 , 119.30003 ],\n",
              "       [ 81.      , 101.      ],\n",
              "       [119.      , 133.      ],\n",
              "       [ 56.000008,  70.      ],\n",
              "       [ 98.71938 , 119.30003 ],\n",
              "       [ 81.      , 101.      ]], dtype=float32)"
            ]
          },
          "metadata": {},
          "execution_count": 17
        }
      ]
    },
    {
      "cell_type": "code",
      "metadata": {
        "colab": {
          "base_uri": "https://localhost:8080/"
        },
        "id": "WccjtV9iZnPS",
        "outputId": "9381aab8-6348-487a-ace5-5f7596e507c7"
      },
      "source": [
        "Y_test"
      ],
      "execution_count": 18,
      "outputs": [
        {
          "output_type": "execute_result",
          "data": {
            "text/plain": [
              "tensor([[103., 119.],\n",
              "        [119., 133.],\n",
              "        [103., 119.],\n",
              "        [ 81., 101.],\n",
              "        [119., 133.],\n",
              "        [ 56.,  70.],\n",
              "        [103., 119.],\n",
              "        [ 81., 101.]])"
            ]
          },
          "metadata": {},
          "execution_count": 18
        }
      ]
    },
    {
      "cell_type": "code",
      "metadata": {
        "colab": {
          "base_uri": "https://localhost:8080/"
        },
        "id": "AaLE2gaDZnrW",
        "outputId": "91652d2e-7025-41b4-81eb-5a254456e7bd"
      },
      "source": [
        "from sklearn.metrics import mean_squared_error\n",
        "\n",
        "print(mean_squared_error(Y_test,predictions))"
      ],
      "execution_count": 19,
      "outputs": [
        {
          "output_type": "stream",
          "name": "stdout",
          "text": [
            "3.4525688\n"
          ]
        }
      ]
    },
    {
      "cell_type": "code",
      "metadata": {
        "id": "hT4tnmOTZwia"
      },
      "source": [
        "import tensorflow as tf\n",
        "\n",
        "inputs = np.array([[73, 67, 43], [91, 88, 64], [87, 134, 58], [102, 43, 37], [69, 96, 70], [73, 67, 43], [91, 88, 64], [87, 134, 58], [102, 43, 37], [69, 96, 70], [73, 67, 43], [91, 88, 64], [87, 134, 58], [102, 43, 37], [69, 96, 70]], dtype='float32')\n",
        "# Targets (apples, oranges)\n",
        "targets = np.array([[56, 70], [81, 101], [119, 133], [22, 37], [103, 119], \n",
        "                    [56, 70], [81, 101], [119, 133], [22, 37], [103, 119], \n",
        "                    [56, 70], [81, 101], [119, 133], [22, 37], [103, 119]], dtype='float32')\n",
        "\n",
        "X_train,X_test,Y_train,Y_test = train_test_split(inputs,targets,test_size=0.5,random_state=140)"
      ],
      "execution_count": 20,
      "outputs": []
    },
    {
      "cell_type": "code",
      "metadata": {
        "id": "GzTK8aFvZxAp"
      },
      "source": [
        "model = tf.keras.Sequential()\n",
        "model.compile(loss=\"mean_squared_error\")"
      ],
      "execution_count": 21,
      "outputs": []
    },
    {
      "cell_type": "code",
      "metadata": {
        "id": "zfsTZa0eZxYc"
      },
      "source": [
        ""
      ],
      "execution_count": 21,
      "outputs": []
    }
  ]
}