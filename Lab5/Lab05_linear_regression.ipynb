{
  "nbformat": 4,
  "nbformat_minor": 0,
  "metadata": {
    "colab": {
      "name": "Lab05_linear_regression.ipynb",
      "provenance": []
    },
    "kernelspec": {
      "name": "python3",
      "display_name": "Python 3"
    },
    "language_info": {
      "name": "python"
    }
  },
  "cells": [
    {
      "cell_type": "code",
      "metadata": {
        "id": "ErNwtS3kW6vf"
      },
      "source": [
        "# Import Numpy & PyTorch\n",
        "import numpy as np\n",
        "import torch"
      ],
      "execution_count": 4,
      "outputs": []
    },
    {
      "cell_type": "code",
      "metadata": {
        "id": "kiQTQIfZXCQb"
      },
      "source": [
        "# Input (temp, rainfall, humidity)\n",
        "inputs = np.array([[73, 67, 43], \n",
        "                   [91, 88, 64], \n",
        "                   [87, 134, 58], \n",
        "                   [102, 43, 37], \n",
        "                   [69, 96, 70]], dtype='float32')"
      ],
      "execution_count": 5,
      "outputs": []
    },
    {
      "cell_type": "code",
      "metadata": {
        "id": "THmhD7aRXDKq"
      },
      "source": [
        "# Target (apples)\n",
        "targets = np.array([[56], \n",
        "                    [81], \n",
        "                    [119], \n",
        "                    [22], \n",
        "                    [103]], dtype='float32')"
      ],
      "execution_count": 6,
      "outputs": []
    },
    {
      "cell_type": "code",
      "metadata": {
        "colab": {
          "base_uri": "https://localhost:8080/"
        },
        "id": "8s_9xH2iXDcD",
        "outputId": "2c8d6db7-55cc-4c1d-eb92-d047dd032078"
      },
      "source": [
        "# Convert inputs and targets to tensors\n",
        "inputs = torch.from_numpy(inputs)\n",
        "targets = torch.from_numpy(targets)\n",
        "targets"
      ],
      "execution_count": 7,
      "outputs": [
        {
          "output_type": "execute_result",
          "data": {
            "text/plain": [
              "tensor([[ 56.],\n",
              "        [ 81.],\n",
              "        [119.],\n",
              "        [ 22.],\n",
              "        [103.]])"
            ]
          },
          "metadata": {},
          "execution_count": 7
        }
      ]
    },
    {
      "cell_type": "code",
      "metadata": {
        "colab": {
          "base_uri": "https://localhost:8080/"
        },
        "id": "-TXZY0ueXEi_",
        "outputId": "08310c1e-9a7f-4a68-95db-b5b1e62125fe"
      },
      "source": [
        "# Weights and biases\n",
        "W = torch.rand((1,inputs.shape[1]),requires_grad=True)\n",
        "print(W)\n",
        "\n",
        "b = torch.zeros(size=(inputs.shape[0],1),requires_grad=True)\n",
        "b\n"
      ],
      "execution_count": 8,
      "outputs": [
        {
          "output_type": "stream",
          "name": "stdout",
          "text": [
            "tensor([[0.5000, 0.8290, 0.9848]], requires_grad=True)\n"
          ]
        },
        {
          "output_type": "execute_result",
          "data": {
            "text/plain": [
              "tensor([[0.],\n",
              "        [0.],\n",
              "        [0.],\n",
              "        [0.],\n",
              "        [0.]], requires_grad=True)"
            ]
          },
          "metadata": {},
          "execution_count": 8
        }
      ]
    },
    {
      "cell_type": "code",
      "metadata": {
        "id": "zMIWo0KAXEyP"
      },
      "source": [
        "# Define the model\n",
        "predict = lambda X,W,b: X@W.T+b\n"
      ],
      "execution_count": 9,
      "outputs": []
    },
    {
      "cell_type": "code",
      "metadata": {
        "colab": {
          "base_uri": "https://localhost:8080/"
        },
        "id": "Lf06LLusX5IQ",
        "outputId": "ecd264a3-038c-4660-d086-ba8e7d633701"
      },
      "source": [
        "# Generate predictions\n",
        "y_h = predict(inputs,W,b)\n",
        "y_h"
      ],
      "execution_count": 10,
      "outputs": [
        {
          "output_type": "execute_result",
          "data": {
            "text/plain": [
              "tensor([[134.3851],\n",
              "        [181.4738],\n",
              "        [211.6985],\n",
              "        [123.0792],\n",
              "        [183.0155]], grad_fn=<AddBackward0>)"
            ]
          },
          "metadata": {},
          "execution_count": 10
        }
      ]
    },
    {
      "cell_type": "code",
      "metadata": {
        "colab": {
          "base_uri": "https://localhost:8080/"
        },
        "id": "VMOaDx9uXwqD",
        "outputId": "f00cf5c9-e829-4ed1-e4f7-63e9f7221715"
      },
      "source": [
        "# Compare with targets\n",
        "targets\n"
      ],
      "execution_count": 11,
      "outputs": [
        {
          "output_type": "execute_result",
          "data": {
            "text/plain": [
              "tensor([[ 56.],\n",
              "        [ 81.],\n",
              "        [119.],\n",
              "        [ 22.],\n",
              "        [103.]])"
            ]
          },
          "metadata": {},
          "execution_count": 11
        }
      ]
    },
    {
      "cell_type": "code",
      "metadata": {
        "id": "VcWOKLoNXw90"
      },
      "source": [
        "# MSE loss\n",
        "loss_fn = torch.nn.MSELoss()\n",
        "my_loss = lambda Y,Yhat : ((Y-Yhat)**2).mean()\n"
      ],
      "execution_count": 12,
      "outputs": []
    },
    {
      "cell_type": "code",
      "metadata": {
        "colab": {
          "base_uri": "https://localhost:8080/"
        },
        "id": "Rimzg6v5X9fF",
        "outputId": "9a167d8b-2fcf-43f8-e751-364e3958bb9b"
      },
      "source": [
        "# Compute loss\n",
        "loss = loss_fn(targets,y_h)\n",
        "loss\n"
      ],
      "execution_count": 13,
      "outputs": [
        {
          "output_type": "execute_result",
          "data": {
            "text/plain": [
              "tensor(8290.3379, grad_fn=<MseLossBackward>)"
            ]
          },
          "metadata": {},
          "execution_count": 13
        }
      ]
    },
    {
      "cell_type": "code",
      "metadata": {
        "id": "m2FPuIBgYByb"
      },
      "source": [
        "# Compute gradients\n",
        "loss.backward()"
      ],
      "execution_count": 14,
      "outputs": []
    },
    {
      "cell_type": "code",
      "metadata": {
        "colab": {
          "base_uri": "https://localhost:8080/"
        },
        "id": "cVC4xuvCYFbq",
        "outputId": "a9562e2d-bce0-455e-a5bb-d8eb51e93a73"
      },
      "source": [
        "# Gradients for weights\n",
        "W.grad"
      ],
      "execution_count": 15,
      "outputs": [
        {
          "output_type": "execute_result",
          "data": {
            "text/plain": [
              "tensor([[15504.4561, 15417.1943,  9807.3633]])"
            ]
          },
          "metadata": {},
          "execution_count": 15
        }
      ]
    },
    {
      "cell_type": "code",
      "metadata": {
        "colab": {
          "base_uri": "https://localhost:8080/"
        },
        "id": "OAFCbUyLYF5p",
        "outputId": "0d10cc1d-924c-4ce9-f63b-8217b6be6762"
      },
      "source": [
        "# Gradients for bias\n",
        "b.grad"
      ],
      "execution_count": 16,
      "outputs": [
        {
          "output_type": "execute_result",
          "data": {
            "text/plain": [
              "tensor([[31.3540],\n",
              "        [40.1895],\n",
              "        [37.0794],\n",
              "        [40.4317],\n",
              "        [32.0062]])"
            ]
          },
          "metadata": {},
          "execution_count": 16
        }
      ]
    },
    {
      "cell_type": "code",
      "metadata": {
        "colab": {
          "base_uri": "https://localhost:8080/"
        },
        "id": "qrL9cP9eYGQj",
        "outputId": "5895b558-1d9a-44c4-a08b-db142c04acfe"
      },
      "source": [
        "W.grad.zero_(),b.grad.zero_()"
      ],
      "execution_count": 17,
      "outputs": [
        {
          "output_type": "execute_result",
          "data": {
            "text/plain": [
              "(tensor([[0., 0., 0.]]), tensor([[0.],\n",
              "         [0.],\n",
              "         [0.],\n",
              "         [0.],\n",
              "         [0.]]))"
            ]
          },
          "metadata": {},
          "execution_count": 17
        }
      ]
    },
    {
      "cell_type": "code",
      "metadata": {
        "colab": {
          "base_uri": "https://localhost:8080/"
        },
        "id": "yuK0fuPbYRyp",
        "outputId": "a2cd0d5b-02b7-4475-df29-d1c3665cad7d"
      },
      "source": [
        "# Generate predictions\n",
        "X = torch.from_numpy( np.array([[73, 67, 43], \n",
        "                   [91, 88, 64], \n",
        "                   [87, 134, 58], \n",
        "                   [102, 43, 37], \n",
        "                   [69, 96, 70]], dtype='float32'))\n",
        "Y = torch.from_numpy( np.array([[56], \n",
        "                    [81], \n",
        "                    [119], \n",
        "                    [22], \n",
        "                    [103]], dtype='float32'))\n",
        "\n",
        "W = torch.rand((1,X.shape[1]),requires_grad=True)\n",
        "b = torch.tensor([[0.0]],requires_grad=True)\n",
        "\n",
        "predict = lambda X,W,b : X@W.T + b\n",
        "\n",
        "W,b,W.grad,b.grad\n",
        "predictions = predict(X,W,b)\n",
        "predictions"
      ],
      "execution_count": 18,
      "outputs": [
        {
          "output_type": "execute_result",
          "data": {
            "text/plain": [
              "tensor([[139.2955],\n",
              "        [181.0685],\n",
              "        [215.2868],\n",
              "        [142.8614],\n",
              "        [170.0016]], grad_fn=<AddBackward0>)"
            ]
          },
          "metadata": {},
          "execution_count": 18
        }
      ]
    },
    {
      "cell_type": "code",
      "metadata": {
        "colab": {
          "base_uri": "https://localhost:8080/"
        },
        "id": "iRzW9UJIYSZ2",
        "outputId": "818c1bdf-2e5b-4101-f3c6-2dad35e8032f"
      },
      "source": [
        "# Calculate the loss\n",
        "loss = loss_fn(Y,predictions)\n",
        "loss"
      ],
      "execution_count": 19,
      "outputs": [
        {
          "output_type": "execute_result",
          "data": {
            "text/plain": [
              "tensor(9063.9395, grad_fn=<MseLossBackward>)"
            ]
          },
          "metadata": {},
          "execution_count": 19
        }
      ]
    },
    {
      "cell_type": "code",
      "metadata": {
        "colab": {
          "base_uri": "https://localhost:8080/"
        },
        "id": "NYtOZCAaYTFq",
        "outputId": "f991c022-4220-48ff-f3f0-780530d9770c"
      },
      "source": [
        "# Compute gradients\n",
        "loss.backward()\n",
        "print(W.grad,b.grad)"
      ],
      "execution_count": 20,
      "outputs": [
        {
          "output_type": "stream",
          "name": "stdout",
          "text": [
            "tensor([[16205.8945, 15567.3828,  9893.0850]]) tensor([[187.0055]])\n"
          ]
        }
      ]
    },
    {
      "cell_type": "code",
      "metadata": {
        "colab": {
          "base_uri": "https://localhost:8080/"
        },
        "id": "lhdg_jFuYTiE",
        "outputId": "c61a78dc-8bf7-4aad-fa82-29bb2197300b"
      },
      "source": [
        "# Adjust weights & reset gradients\n",
        "alpha = 1e-7\n",
        "with torch.no_grad():\n",
        "    W -= alpha*(W.grad)\n",
        "    b -= alpha*(b.grad)\n",
        "W.grad.zero_(),b.grad.zero_()\n",
        "W,b\n",
        "predictions = predict(X,W,b)\n",
        "predictions"
      ],
      "execution_count": 21,
      "outputs": [
        {
          "output_type": "execute_result",
          "data": {
            "text/plain": [
              "tensor([[139.0303],\n",
              "        [180.7207],\n",
              "        [214.8798],\n",
              "        [142.5925],\n",
              "        [169.6711]], grad_fn=<AddBackward0>)"
            ]
          },
          "metadata": {},
          "execution_count": 21
        }
      ]
    },
    {
      "cell_type": "code",
      "metadata": {
        "colab": {
          "base_uri": "https://localhost:8080/"
        },
        "id": "J_SXZcaqYT93",
        "outputId": "a8079967-8af2-4171-b193-bf15d24fe5e5"
      },
      "source": [
        "#print(w)\n",
        "W"
      ],
      "execution_count": 22,
      "outputs": [
        {
          "output_type": "execute_result",
          "data": {
            "text/plain": [
              "tensor([[0.9097, 0.8660, 0.3395]], requires_grad=True)"
            ]
          },
          "metadata": {},
          "execution_count": 22
        }
      ]
    },
    {
      "cell_type": "code",
      "metadata": {
        "colab": {
          "base_uri": "https://localhost:8080/"
        },
        "id": "ie-L-VqUYfu6",
        "outputId": "79a2bff7-3848-4b2a-ab42-00f06da9798f"
      },
      "source": [
        "# Calculate loss\n",
        "\n",
        "loss = loss_fn(Y,predictions)\n",
        "loss"
      ],
      "execution_count": 23,
      "outputs": [
        {
          "output_type": "execute_result",
          "data": {
            "text/plain": [
              "tensor(9003.7598, grad_fn=<MseLossBackward>)"
            ]
          },
          "metadata": {},
          "execution_count": 23
        }
      ]
    },
    {
      "cell_type": "code",
      "metadata": {
        "id": "eSABwAJ4YgN2"
      },
      "source": [
        "\n",
        "\n",
        "# Train for 100 epochs\n",
        "losses=[]\n",
        "for i in range(100):\n",
        "    yhat = predict(X,W,b)\n",
        "    loss = loss_fn(Y,yhat)\n",
        "    loss.backward()\n",
        "    with torch.no_grad():\n",
        "        W -= alpha*W.grad\n",
        "        b -= alpha*b.grad\n",
        "    losses.append(loss)\n",
        "    W.grad.zero_(),b.grad.zero_()\n",
        "\n"
      ],
      "execution_count": 24,
      "outputs": []
    },
    {
      "cell_type": "code",
      "metadata": {
        "colab": {
          "base_uri": "https://localhost:8080/"
        },
        "id": "ROKeXmBdYgwF",
        "outputId": "820e4bdf-44ac-40af-e8cc-ed4e958c0027"
      },
      "source": [
        "# Calculate loss\n",
        "loss_fn(Y,yhat)"
      ],
      "execution_count": 25,
      "outputs": [
        {
          "output_type": "execute_result",
          "data": {
            "text/plain": [
              "tensor(4749.7515, grad_fn=<MseLossBackward>)"
            ]
          },
          "metadata": {},
          "execution_count": 25
        }
      ]
    },
    {
      "cell_type": "code",
      "metadata": {
        "colab": {
          "base_uri": "https://localhost:8080/"
        },
        "id": "s9cBV6NaYnqP",
        "outputId": "1878514b-5716-4790-9f44-398827c8fcb9"
      },
      "source": [
        "# Print predictions\n",
        "predict(X,W,b)"
      ],
      "execution_count": 26,
      "outputs": [
        {
          "output_type": "execute_result",
          "data": {
            "text/plain": [
              "tensor([[116.7743],\n",
              "        [151.5384],\n",
              "        [180.7931],\n",
              "        [119.9510],\n",
              "        [141.9818]], grad_fn=<AddBackward0>)"
            ]
          },
          "metadata": {},
          "execution_count": 26
        }
      ]
    },
    {
      "cell_type": "code",
      "metadata": {
        "colab": {
          "base_uri": "https://localhost:8080/"
        },
        "id": "aasblfWDYoIH",
        "outputId": "fa156f75-7cd3-4ef1-cb2b-efc994983b0c"
      },
      "source": [
        "# Print targets\n",
        "Y"
      ],
      "execution_count": 27,
      "outputs": [
        {
          "output_type": "execute_result",
          "data": {
            "text/plain": [
              "tensor([[ 56.],\n",
              "        [ 81.],\n",
              "        [119.],\n",
              "        [ 22.],\n",
              "        [103.]])"
            ]
          },
          "metadata": {},
          "execution_count": 27
        }
      ]
    },
    {
      "cell_type": "code",
      "metadata": {
        "id": "wzfvCFcUYouM"
      },
      "source": [
        ""
      ],
      "execution_count": 27,
      "outputs": []
    },
    {
      "cell_type": "code",
      "metadata": {
        "id": "hANOvgv8YpLG"
      },
      "source": [
        ""
      ],
      "execution_count": 27,
      "outputs": []
    }
  ]
}