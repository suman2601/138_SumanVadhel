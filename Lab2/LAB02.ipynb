{
 "cells": [
  {
   "cell_type": "code",
   "execution_count": 1,
   "id": "d4c8eb29",
   "metadata": {},
   "outputs": [
    {
     "name": "stdout",
     "output_type": "stream",
     "text": [
      "\n",
      "\n",
      "Input : \n",
      " [[0 13500 23.0 ... 0 2000 'three']\n",
      " [1 13750 23.0 ... 0 2000 '3']\n",
      " [2 13950 24.0 ... 0 2000 '3']\n",
      " ...\n",
      " [1433 8500 nan ... 0 1300 '3']\n",
      " [1434 7250 70.0 ... 0 1300 '3']\n",
      " [1435 6950 76.0 ... 0 1600 '5']]\n",
      "\n",
      "\n",
      "Output: \n",
      " [1165 1165 1165 ... 1015 1015 1114]\n"
     ]
    }
   ],
   "source": [
    "# Step 1: Import Libraries\n",
    "import numpy as np \n",
    "import pandas as pd\n",
    "from sklearn.preprocessing import MinMaxScaler, StandardScaler\n",
    "from sklearn.impute import SimpleImputer \n",
    "        \n",
    "\n",
    "# Step 2: Load Data        \n",
    "datasets = pd.read_csv('Exercise-CarData.csv') \n",
    "# print(\"\\nData :\\n\",datasets)\n",
    "\n",
    "# Step 3: Seprate Input and Output attributes\n",
    "\n",
    "# All rows, all columns except last \n",
    "X = datasets.iloc[:, :-1].values \n",
    "  \n",
    "# Only last column  \n",
    "Y = datasets.iloc[:, -1].values \n",
    "\n",
    "\n",
    "print(\"\\n\\nInput : \\n\", X) \n",
    "print(\"\\n\\nOutput: \\n\", Y) "
   ]
  },
  {
   "cell_type": "code",
   "execution_count": 2,
   "id": "51d06e2b",
   "metadata": {},
   "outputs": [
    {
     "name": "stdout",
     "output_type": "stream",
     "text": [
      "\n",
      "New Data :\n",
      " 0       1.0\n",
      "1       1.0\n",
      "2       NaN\n",
      "3       0.0\n",
      "4       0.0\n",
      "       ... \n",
      "1431    1.0\n",
      "1432    0.0\n",
      "1433    0.0\n",
      "1434    1.0\n",
      "1435    0.0\n",
      "Name: MetColor, Length: 1436, dtype: float64\n"
     ]
    }
   ],
   "source": [
    "# Step 4: Find the missing values and handle it in either way\n",
    "\n",
    "# 4a. Removing the row with all null values\n",
    "\n",
    "datasets.dropna(how='all',inplace=True)\n",
    "print(\"\\nNew Data :\\n\",datasets.MetColor)"
   ]
  },
  {
   "cell_type": "code",
   "execution_count": 3,
   "id": "6aae7d5e",
   "metadata": {},
   "outputs": [
    {
     "name": "stdout",
     "output_type": "stream",
     "text": [
      "Most frequent MetColor [2 13950 24.0 '41711' 'Diesel' '90' 1.0 0 2000 '3']\n",
      "Most frequent FuelType [7 18600 30.0 '75889' 'Petrol' '90' 1.0 0 2000 '3']\n"
     ]
    }
   ],
   "source": [
    "# 4b. Imputation (Replacing null values with most_frequent  value of that attribute)\n",
    "\n",
    "# All rows, all columns except last \n",
    "re_X = datasets.iloc[:, :-1].values \n",
    "  \n",
    "# Only last column  \n",
    "re_Y = datasets.iloc[:, -1].values \n",
    "\n",
    "re_X[2]\n",
    "\n",
    "imputerfunc = SimpleImputer(missing_values = np.nan,strategy =\"most_frequent\")\n",
    "\n",
    "# Fitting the data, function learns the stats \n",
    "imputerfunc = imputerfunc.fit(re_X[:, 1:7]) \n",
    "  \n",
    "# fit_transform() will execute those stats on the input ie. X[:, 1:7] \n",
    "re_X[:, 1:7] = imputerfunc.transform(re_X[:,1: 7]) \n",
    "  \n",
    "# filling the missing value with most frequent \n",
    "print(\"Most frequent MetColor\",re_X[2])\n",
    "print(\"Most frequent FuelType\",re_X[7])\n"
   ]
  },
  {
   "cell_type": "code",
   "execution_count": null,
   "id": "bd91623b",
   "metadata": {},
   "outputs": [],
   "source": []
  }
 ],
 "metadata": {
  "kernelspec": {
   "display_name": "Python 3",
   "language": "python",
   "name": "python3"
  },
  "language_info": {
   "codemirror_mode": {
    "name": "ipython",
    "version": 3
   },
   "file_extension": ".py",
   "mimetype": "text/x-python",
   "name": "python",
   "nbconvert_exporter": "python",
   "pygments_lexer": "ipython3",
   "version": "3.8.8"
  }
 },
 "nbformat": 4,
 "nbformat_minor": 5
}
