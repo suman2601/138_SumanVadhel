{
 "cells": [
  {
   "cell_type": "code",
   "execution_count": 1,
   "id": "c6b4f3f0",
   "metadata": {},
   "outputs": [
    {
     "name": "stdout",
     "output_type": "stream",
     "text": [
      "\n",
      "Data :\n",
      "     Country  Age  Salary Purchased\n",
      "0    France   44   72000        No\n",
      "1     Spain   27   48000       Yes\n",
      "2   Germany   30   54000        No\n",
      "3     Spain   38   61000        No\n",
      "4   Germany   40   68000       Yes\n",
      "5    France   35   58000       Yes\n",
      "6     Spain   39   52000        No\n",
      "7    France   48   79000       Yes\n",
      "8   Germany   50   83000        No\n",
      "9    France   37   67000       Yes\n",
      "10    Spain   45   55000        No\n",
      "\n",
      "\n",
      "X for transformation : \n",
      " [[   44 72000]\n",
      " [   27 48000]\n",
      " [   30 54000]\n",
      " [   38 61000]\n",
      " [   40 68000]\n",
      " [   35 58000]\n",
      " [   39 52000]\n",
      " [   48 79000]\n",
      " [   50 83000]\n",
      " [   37 67000]\n",
      " [   45 55000]]\n"
     ]
    }
   ],
   "source": [
    "# Step 1: Import Libraries\n",
    "\n",
    "import numpy as np \n",
    "import pandas as pd\n",
    "from sklearn.preprocessing import MinMaxScaler, StandardScaler\n",
    "\n",
    "# Step 2: Load Data\n",
    "        \n",
    "datasets = pd.read_csv('Data_for_Transformation.csv') \n",
    "print(\"\\nData :\\n\",datasets)\n",
    "\n",
    "# Step 3: Seprate Input and Output attributes\n",
    "\n",
    "# All rows, all columns except last \n",
    "X = datasets.iloc[:, :-1].values \n",
    "  \n",
    "# Only last column  \n",
    "Y = datasets.iloc[:, -1].values \n",
    "\n",
    "#print(\"\\n\\nInput : \\n\", X) \n",
    "#print(\"\\n\\nOutput: \\n\", Y) \n",
    "\n",
    "re_X = datasets.iloc[:,1:3].values\n",
    "print(\"\\n\\nX for transformation : \\n\", re_X)"
   ]
  },
  {
   "cell_type": "code",
   "execution_count": 2,
   "id": "18224dc3",
   "metadata": {},
   "outputs": [
    {
     "name": "stdout",
     "output_type": "stream",
     "text": [
      "\n",
      "\n",
      "Scaled X : \n",
      " [[0.73913043 0.68571429]\n",
      " [0.         0.        ]\n",
      " [0.13043478 0.17142857]\n",
      " [0.47826087 0.37142857]\n",
      " [0.56521739 0.57142857]\n",
      " [0.34782609 0.28571429]\n",
      " [0.52173913 0.11428571]\n",
      " [0.91304348 0.88571429]\n",
      " [1.         1.        ]\n",
      " [0.43478261 0.54285714]\n",
      " [0.7826087  0.2       ]]\n"
     ]
    }
   ],
   "source": [
    "# Step 4 : Perform scaling on age and salary\n",
    "\n",
    "scaler = MinMaxScaler()\n",
    "scale_X = scaler.fit_transform(re_X)\n",
    "print(\"\\n\\nScaled X : \\n\", scale_X)"
   ]
  },
  {
   "cell_type": "code",
   "execution_count": 4,
   "id": "ef0296bf",
   "metadata": {},
   "outputs": [
    {
     "name": "stdout",
     "output_type": "stream",
     "text": [
      "\n",
      "\n",
      "Standardized X : \n",
      " [[ 0.68188156  0.79548755]\n",
      " [-1.81835082 -1.41513049]\n",
      " [-1.37713334 -0.86247598]\n",
      " [-0.2005534  -0.21771238]\n",
      " [ 0.09359159  0.42705121]\n",
      " [-0.64177088 -0.49403964]\n",
      " [-0.05348091 -1.04669415]\n",
      " [ 1.27017153  1.44025115]\n",
      " [ 1.56431652  1.80868749]\n",
      " [-0.34762589  0.33494213]\n",
      " [ 0.82895405 -0.77036689]]\n"
     ]
    }
   ],
   "source": [
    "# Step 5 : Perform standardization on age and salary\n",
    "\n",
    "stdscale = StandardScaler()\n",
    "std_X = stdscale.fit_transform(re_X)\n",
    "print(\"\\n\\nStandardized X : \\n\", std_X)"
   ]
  },
  {
   "cell_type": "code",
   "execution_count": null,
   "id": "8b9785b6",
   "metadata": {},
   "outputs": [],
   "source": []
  }
 ],
 "metadata": {
  "kernelspec": {
   "display_name": "Python 3",
   "language": "python",
   "name": "python3"
  },
  "language_info": {
   "codemirror_mode": {
    "name": "ipython",
    "version": 3
   },
   "file_extension": ".py",
   "mimetype": "text/x-python",
   "name": "python",
   "nbconvert_exporter": "python",
   "pygments_lexer": "ipython3",
   "version": "3.8.8"
  }
 },
 "nbformat": 4,
 "nbformat_minor": 5
}
