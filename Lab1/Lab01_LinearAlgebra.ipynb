{
 "cells": [
  {
   "cell_type": "code",
   "execution_count": 2,
   "id": "972eddbc",
   "metadata": {},
   "outputs": [
    {
     "name": "stdout",
     "output_type": "stream",
     "text": [
      "[[7 2 3]\n",
      " [1 9 5]]\n",
      "[[  1   7]\n",
      " [  2  -3]\n",
      " [  5 -10]]\n"
     ]
    }
   ],
   "source": [
    "#Create Two numpy array of size 3 X 2 and 2 X 3\n",
    "import numpy as np\n",
    "arr1 = np.array([[7, 2, 3],[1, 9, 5]])\n",
    "arr2 = np.array([[1,7],[2, -3],[5, -10]])\n",
    "print(arr1)\n",
    "print(arr2)\n"
   ]
  },
  {
   "cell_type": "code",
   "execution_count": 3,
   "id": "896ceb12",
   "metadata": {},
   "outputs": [
    {
     "name": "stdout",
     "output_type": "stream",
     "text": [
      "[[0.01425073 0.42787503 0.85511719 0.8030986 ]\n",
      " [0.36096969 0.94055257 0.41937523 0.04506388]]\n"
     ]
    }
   ],
   "source": [
    "#Randomly Initalize that array\n",
    "arr = np.random.rand(2, 4)\n",
    "print(arr)"
   ]
  },
  {
   "cell_type": "code",
   "execution_count": 4,
   "id": "5171da76",
   "metadata": {},
   "outputs": [
    {
     "name": "stdout",
     "output_type": "stream",
     "text": [
      "[[ 26  13]\n",
      " [ 44 -70]]\n"
     ]
    }
   ],
   "source": [
    "# perform matrix multiplication\n",
    "mat_mul = np.dot(arr1, arr2)\n",
    "print(mat_mul)"
   ]
  },
  {
   "cell_type": "code",
   "execution_count": 6,
   "id": "3d456b1a",
   "metadata": {},
   "outputs": [
    {
     "name": "stdout",
     "output_type": "stream",
     "text": [
      "[[26, 13], [44, -70]]\n"
     ]
    }
   ],
   "source": [
    "# perform element wise matrix multiplication\n",
    "ans = [[0 for x in range(len(arr1))] for y in range(len(arr2[0]))]\n",
    "\n",
    "for i in range(len(arr1)): \n",
    "  for j in range(len(arr2[0])): \n",
    "    for k in range(len(arr2)): \n",
    "      ans[i][j] += arr1[i][k] * arr2[k][j]\n",
    " \n",
    "print(ans)"
   ]
  },
  {
   "cell_type": "code",
   "execution_count": 7,
   "id": "686360d6",
   "metadata": {},
   "outputs": [
    {
     "name": "stdout",
     "output_type": "stream",
     "text": [
      "4.5\n"
     ]
    }
   ],
   "source": [
    "# mean of first matrix\n",
    "mean_arr1 = np.mean(arr1)\n",
    "print(mean_arr1)"
   ]
  },
  {
   "cell_type": "code",
   "execution_count": 11,
   "id": "d2991846",
   "metadata": {},
   "outputs": [],
   "source": [
    "#Convert Numeric entries(columns) of mtcars.csv to Mean Centered Version\n",
    "import pandas as pd\n",
    "main_data = pd.read_csv(\"mtcars.csv\")\n"
   ]
  },
  {
   "cell_type": "code",
   "execution_count": 12,
   "id": "378d9881",
   "metadata": {},
   "outputs": [
    {
     "name": "stdout",
     "output_type": "stream",
     "text": [
      "        mpg     cyl        disp       hp      drat       wt     qsec      vs  \\\n",
      "0  0.909375 -0.1875  -70.721875 -36.6875  0.303437 -0.59725 -1.38875 -0.4375   \n",
      "1  0.909375 -0.1875  -70.721875 -36.6875  0.303437 -0.34225 -0.82875 -0.4375   \n",
      "2  2.709375 -2.1875 -122.721875 -53.6875  0.253437 -0.89725  0.76125  0.5625   \n",
      "3  1.309375 -0.1875   27.278125 -36.6875 -0.516563 -0.00225  1.59125  0.5625   \n",
      "4 -1.390625  1.8125  129.278125  28.3125 -0.446563  0.22275 -0.82875 -0.4375   \n",
      "\n",
      "        am    gear    carb  \n",
      "0  0.59375  0.3125  1.1875  \n",
      "1  0.59375  0.3125  1.1875  \n",
      "2  0.59375  0.3125 -1.8125  \n",
      "3 -0.40625 -0.6875 -1.8125  \n",
      "4 -0.40625 -0.6875 -0.8125  \n"
     ]
    }
   ],
   "source": [
    "del main_data['model']\n",
    "mean_center = main_data.apply(lambda e: e - e.mean())\n",
    "print(mean_center.head())"
   ]
  },
  {
   "cell_type": "code",
   "execution_count": null,
   "id": "c1e4df2f",
   "metadata": {},
   "outputs": [],
   "source": []
  }
 ],
 "metadata": {
  "kernelspec": {
   "display_name": "Python 3",
   "language": "python",
   "name": "python3"
  },
  "language_info": {
   "codemirror_mode": {
    "name": "ipython",
    "version": 3
   },
   "file_extension": ".py",
   "mimetype": "text/x-python",
   "name": "python",
   "nbconvert_exporter": "python",
   "pygments_lexer": "ipython3",
   "version": "3.8.8"
  }
 },
 "nbformat": 4,
 "nbformat_minor": 5
}
