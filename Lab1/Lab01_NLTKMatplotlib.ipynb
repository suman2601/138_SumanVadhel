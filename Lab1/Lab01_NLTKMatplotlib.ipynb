{
 "cells": [
  {
   "cell_type": "code",
   "execution_count": 1,
   "id": "d79136bb",
   "metadata": {},
   "outputs": [],
   "source": [
    "import nltk\n",
    "import matplotlib.pyplot as plt\n",
    "import pandas as pd"
   ]
  },
  {
   "cell_type": "code",
   "execution_count": 2,
   "id": "10f510f3",
   "metadata": {},
   "outputs": [
    {
     "name": "stdout",
     "output_type": "stream",
     "text": [
      "Hey there , this is suman vadhel.\n"
     ]
    }
   ],
   "source": [
    "import re\n",
    "import string\n",
    "from nltk.corpus import stopwords\n",
    "from nltk.stem import PorterStemmer\n",
    "from nltk.tokenize import TweetTokenizer\n",
    "\n",
    "txt = \"Hey there , this is suman vadhel.\"\n",
    "rm_link = re.sub(r'https?:\\/\\/.*[\\r\\n]*', '', txt)\n",
    "rm_link = re.sub(r'#', '', rm_link)\n",
    "print(rm_link)"
   ]
  },
  {
   "cell_type": "code",
   "execution_count": 4,
   "id": "38fc0331",
   "metadata": {},
   "outputs": [
    {
     "name": "stdout",
     "output_type": "stream",
     "text": [
      "[' Tata Motors opposes cut in import tax on electric cars for Tesla.', 'short by Hiral Goyal.']\n"
     ]
    },
    {
     "name": "stderr",
     "output_type": "stream",
     "text": [
      "[nltk_data] Downloading package punkt to C:\\Users\\Suman A.\n",
      "[nltk_data]     Vadhel\\AppData\\Roaming\\nltk_data...\n",
      "[nltk_data]   Package punkt is already up-to-date!\n"
     ]
    }
   ],
   "source": [
    "from nltk.tokenize import sent_tokenize\n",
    "text=\" Tata Motors opposes cut in import tax on electric cars for Tesla. short by Hiral Goyal.\"\n",
    "nltk.download(\"punkt\")\n",
    "tokenizedText=sent_tokenize(text)\n",
    "print(tokenizedText)"
   ]
  },
  {
   "cell_type": "code",
   "execution_count": 6,
   "id": "28cc3d8d",
   "metadata": {},
   "outputs": [
    {
     "name": "stdout",
     "output_type": "stream",
     "text": [
      "['Tata', 'Motors', 'opposes', 'cut', 'in', 'import', 'tax', 'on', 'electric', 'cars', 'for', 'Tesla', '.', 'short', 'by', 'Hiral', 'Goyal', '.']\n"
     ]
    }
   ],
   "source": [
    "from nltk.tokenize import word_tokenize\n",
    "tk_word=word_tokenize(text)\n",
    "print(tk_word)"
   ]
  },
  {
   "cell_type": "code",
   "execution_count": 7,
   "id": "817e7266",
   "metadata": {},
   "outputs": [
    {
     "data": {
      "image/png": "[encoded data removed]",
      "text/plain": [
       "<Figure size 432x288 with 1 Axes>"
      ]
     },
     "metadata": {
      "needs_background": "light"
     },
     "output_type": "display_data"
    }
   ],
   "source": [
    "#frequency distribution\n",
    "from nltk.probability import FreqDist\n",
    "fre_dist = FreqDist(tk_word)\n",
    "fre_dist.most_common(4)\n",
    "\n",
    "# Frequency Distribution Plot\n",
    "import matplotlib.pyplot as plt\n",
    "fre_dist.plot(30, cumulative = False, color = \"red\")\n",
    "plt.show()"
   ]
  },
  {
   "cell_type": "code",
   "execution_count": 8,
   "id": "2b4d2053",
   "metadata": {},
   "outputs": [
    {
     "name": "stderr",
     "output_type": "stream",
     "text": [
      "[nltk_data] Downloading package stopwords to C:\\Users\\Suman A.\n",
      "[nltk_data]     Vadhel\\AppData\\Roaming\\nltk_data...\n"
     ]
    },
    {
     "name": "stdout",
     "output_type": "stream",
     "text": [
      "{'itself', \"hadn't\", 'yourself', \"you've\", 'over', \"won't\", 'is', 'himself', \"weren't\", 'of', \"hasn't\", 'themselves', 'be', \"didn't\", 'wasn', 'his', 'while', 'on', \"haven't\", \"you'll\", 'don', 'so', 'won', \"wouldn't\", 'such', 'ain', 'needn', 'which', 'only', 'in', 'both', \"doesn't\", 'its', 'yours', 'any', 'me', 'how', 'been', 'mightn', 'if', 'by', 'about', 're', 'are', 'hadn', 'after', 'as', 'from', 'down', 'we', \"couldn't\", 'than', \"shouldn't\", 'isn', 'll', 'and', 'her', 'does', 'shan', 'can', 'hasn', 'your', \"mightn't\", 'yourselves', 'i', 'didn', 't', 'hers', 'before', 'very', 'y', \"it's\", 'until', 'but', 'no', 'too', 'ours', 'these', 'my', 'had', 'couldn', \"should've\", 'when', 'having', 'through', 'where', 'you', 'she', 'against', 'did', \"don't\", 'into', 'above', 'weren', 'some', 'under', 's', 'here', 'more', 'most', 'o', \"isn't\", 'should', 'further', \"needn't\", 'wouldn', 'there', 'all', 'ma', 'he', 'have', 'again', 've', 'between', 'will', 'm', 'whom', 'off', 'our', \"that'll\", 'd', 'same', 'now', 'those', 'because', 'the', 'once', \"you're\", 'why', 'it', 'herself', 'do', 'that', 'just', 'at', \"wasn't\", 'with', 'what', 'being', 'then', 'shouldn', 'during', 'own', 'they', 'doing', 'not', 'up', 'them', \"aren't\", 'few', 'aren', 'ourselves', 'theirs', 'mustn', \"she's\", 'him', 'haven', 'for', 'to', 'other', 'or', \"mustn't\", 'nor', 'who', 'myself', 'their', 'a', 'am', 'out', 'doesn', \"shan't\", 'were', 'an', 'each', 'below', 'has', \"you'd\", 'this', 'was'}\n"
     ]
    },
    {
     "name": "stderr",
     "output_type": "stream",
     "text": [
      "[nltk_data]   Unzipping corpora\\stopwords.zip.\n"
     ]
    }
   ],
   "source": [
    "# stop words\n",
    "from nltk.corpus import stopwords\n",
    "nltk.download(\"stopwords\")\n",
    "stop_words = set(stopwords.words(\"english\"))\n",
    "print(stop_words)"
   ]
  },
  {
   "cell_type": "code",
   "execution_count": 9,
   "id": "c93687da",
   "metadata": {},
   "outputs": [
    {
     "name": "stdout",
     "output_type": "stream",
     "text": [
      "Tokenized Sentence: ['Tata', 'Motors', 'opposes', 'cut', 'in', 'import', 'tax', 'on', 'electric', 'cars', 'for', 'Tesla', '.', 'short', 'by', 'Hiral', 'Goyal', '.']\n",
      "Filterd Sentence: ['Tata', 'Motors', 'opposes', 'cut', 'import', 'tax', 'electric', 'cars', 'Tesla', '.', 'short', 'Hiral', 'Goyal', '.']\n"
     ]
    }
   ],
   "source": [
    "filtered_sent=[]\n",
    "for words in tk_word:\n",
    "    if words not in stop_words:\n",
    "        filtered_sent.append(words)\n",
    "print(\"Tokenized Sentence:\",tk_word)\n",
    "print(\"Filterd Sentence:\",filtered_sent)"
   ]
  },
  {
   "cell_type": "code",
   "execution_count": 10,
   "id": "bdbce429",
   "metadata": {},
   "outputs": [
    {
     "name": "stdout",
     "output_type": "stream",
     "text": [
      "Filtered Sentence: ['Tata', 'Motors', 'opposes', 'cut', 'import', 'tax', 'electric', 'cars', 'Tesla', '.', 'short', 'Hiral', 'Goyal', '.']\n",
      "Stemmed Sentence: ['tata', 'motor', 'oppos', 'cut', 'import', 'tax', 'electr', 'car', 'tesla', '.', 'short', 'hiral', 'goyal', '.']\n"
     ]
    }
   ],
   "source": [
    "# stemming\n",
    "from nltk.stem import PorterStemmer\n",
    "from nltk.tokenize import sent_tokenize, word_tokenize\n",
    "\n",
    "ps = PorterStemmer()\n",
    "\n",
    "st_words=[]\n",
    "for w in filtered_sent:\n",
    "    st_words.append(ps.stem(w))\n",
    "\n",
    "print(\"Filtered Sentence:\",filtered_sent)\n",
    "print(\"Stemmed Sentence:\",st_words)"
   ]
  },
  {
   "cell_type": "code",
   "execution_count": 16,
   "id": "8d1cc39e",
   "metadata": {},
   "outputs": [
    {
     "name": "stdout",
     "output_type": "stream",
     "text": [
      "Lemmatized Word: happy\n",
      "Stemmed Word: happi\n"
     ]
    },
    {
     "name": "stderr",
     "output_type": "stream",
     "text": [
      "[nltk_data] Downloading package wordnet to C:\\Users\\Suman A.\n",
      "[nltk_data]     Vadhel\\AppData\\Roaming\\nltk_data...\n",
      "[nltk_data]   Package wordnet is already up-to-date!\n"
     ]
    }
   ],
   "source": [
    "#Lexicon Normalization\n",
    "#performing stemming and Lemmatization\n",
    "\n",
    "from nltk.stem.wordnet import WordNetLemmatizer\n",
    "nltk.download('wordnet')\n",
    "wlem = WordNetLemmatizer()\n",
    "\n",
    "from nltk.stem.porter import PorterStemmer\n",
    "pstem = PorterStemmer()\n",
    "\n",
    "word = \"happy\"\n",
    "print(\"Lemmatized Word:\",wlem.lemmatize(word,\"v\"))\n",
    "print(\"Stemmed Word:\",pstem.stem(word))"
   ]
  },
  {
   "cell_type": "code",
   "execution_count": null,
   "id": "6ce0cd81",
   "metadata": {},
   "outputs": [],
   "source": []
  }
 ],
 "metadata": {
  "kernelspec": {
   "display_name": "Python 3",
   "language": "python",
   "name": "python3"
  },
  "language_info": {
   "codemirror_mode": {
    "name": "ipython",
    "version": 3
   },
   "file_extension": ".py",
   "mimetype": "text/x-python",
   "name": "python",
   "nbconvert_exporter": "python",
   "pygments_lexer": "ipython3",
   "version": "3.8.8"
  }
 },
 "nbformat": 4,
 "nbformat_minor": 5
}
